{
 "cells": [
  {
   "cell_type": "code",
   "execution_count": 9,
   "metadata": {},
   "outputs": [],
   "source": [
    "from PIL import Image\n",
    "import os\n",
    "from tqdm import tqdm"
   ]
  },
  {
   "cell_type": "code",
   "execution_count": 10,
   "metadata": {},
   "outputs": [],
   "source": [
    "def create_image_faster(name_of_file,b_string,image_index,image=None,point=None):\n",
    "    if(image==None):\n",
    "        image = Image.new('RGB', (640, 480), (256, 256, 256))\n",
    "        width, height = image.size\n",
    "        point={'x':0,'y':0}\n",
    "    else:\n",
    "        width, height = image.size\n",
    "    all_pixels={'Red':0,'Green':0,'Blue':0}\n",
    "    if(point['x']+1<width and point['y']+1<height):\n",
    "        for i in range(3):\n",
    "            binary_substring=b_string[:8]\n",
    "            b_string=b_string[8:]\n",
    "            decimal_temp = int(binary_substring, 2)\n",
    "            all_pixels[list(all_pixels.keys())[i]]=decimal_temp\n",
    "        image.putpixel((point['x'], point['y']), (all_pixels['Red'], all_pixels['Green'], all_pixels['Blue']))\n",
    "\n",
    "        point['x']+=1\n",
    "    elif(point['x']+1==width and point['y']+1<height):\n",
    "        for i in range(3):\n",
    "            binary_substring=b_string[:8]\n",
    "            b_string=b_string[8:]\n",
    "            decimal_temp = int(binary_substring, 2)\n",
    "            all_pixels[list(all_pixels.keys())[i]]=decimal_temp\n",
    "        image.putpixel((point['x'], point['y']), (all_pixels['Red'], all_pixels['Green'], all_pixels['Blue']))\n",
    "\n",
    "        point['x']=0\n",
    "        point['y']+=1\n",
    "    elif(point['x']+1==width and point['y']+1==height):\n",
    "        image.save('./images/'+name_of_file+'_pixels_'+'{:04d}'.format(image_index)+'.jpg')\n",
    "        image=None\n",
    "        point=None\n",
    "        image_index+=1\n",
    "    return image,point,image_index"
   ]
  },
  {
   "cell_type": "code",
   "execution_count": 11,
   "metadata": {},
   "outputs": [],
   "source": [
    "def convert_file_to_binary(name_of_file,path):\n",
    "    \n",
    "    \n",
    "    with open(path, 'rb') as f:\n",
    "        binary_data = f.read()\n",
    "        # binary_string = ''.join(format(byte, '08b') for byte in binary_data)\n",
    "        binary_string=\"\"\n",
    "        previous_string=None\n",
    "        current_index=0;\n",
    "        image=None\n",
    "        img_index=0;\n",
    "        point=None\n",
    "        #add tqdm to this loop\n",
    "        for i in tqdm(range(len(binary_data)),desc=\"Converting to binary\"):\n",
    "        # for i in range(len(binary_data)):\n",
    "\n",
    "            temp= format(binary_data[i], '08b')\n",
    "            binary_string+=temp\n",
    "            if((i+1)%3==0):\n",
    "                # print(f'image_index={img_index}')\n",
    "                image,point,img_index=create_image_faster(name_of_file,binary_string,img_index,image,point)\n",
    "                if(image==None):\n",
    "                    print(f'image_index --end-- ={img_index}')\n",
    "                    image,point,img_index=create_image_faster(name_of_file,binary_string,img_index,image,point)\n",
    "    \n",
    "\n"
   ]
  },
  {
   "cell_type": "code",
   "execution_count": 12,
   "metadata": {},
   "outputs": [],
   "source": [
    "def cal_no_of_images(name_of_file):\n",
    "    directory = './images/'\n",
    "    file_list = os.listdir(directory)\n",
    "    num_files=0\n",
    "    for file in file_list:\n",
    "        if name_of_file == str(file)[:-16]:\n",
    "            print(\"images are : \"+str(file))\n",
    "            num_files+=1\n",
    "\n",
    "    return num_files"
   ]
  },
  {
   "cell_type": "code",
   "execution_count": 13,
   "metadata": {},
   "outputs": [],
   "source": [
    "def CreateVideo(name_of_file):\n",
    "    print(\"Creating video...\")\n",
    "    import imageio.v2\n",
    "    writer = imageio.v2.get_writer('./videos/'+name_of_file+'.mp4', fps=30)\n",
    "    noi=cal_no_of_images(name_of_file)\n",
    "    for i in range(noi):\n",
    "        print(\"Video: images are : \"+str(i))\n",
    "        image = imageio.v2.imread('./images/'+name_of_file+'_pixels_'+'{:04d}'.format(i+1)+'.jpg')\n",
    "        writer.append_data(image)\n",
    "\n",
    "    writer.close()"
   ]
  },
  {
   "cell_type": "code",
   "execution_count": 14,
   "metadata": {},
   "outputs": [],
   "source": [
    "def Delete_Images(name_of_file):\n",
    "    import os\n",
    "    directory = './images/'\n",
    "    file_list = os.listdir(directory)\n",
    "    for file in file_list:\n",
    "        if name_of_file == str(file)[:-16]:\n",
    "            os.remove('./images/'+file)\n",
    "            print(\"Deleted : \"+str(file))"
   ]
  },
  {
   "cell_type": "code",
   "execution_count": 15,
   "metadata": {},
   "outputs": [],
   "source": [
    "def convertdatatovideo(name_of_file,path):\n",
    "    convert_file_to_binary(name_of_file,path)\n",
    "    CreateVideo(name_of_file)\n",
    "    Delete_Images(name_of_file)"
   ]
  },
  {
   "cell_type": "code",
   "execution_count": 16,
   "metadata": {},
   "outputs": [
    {
     "name": "stdout",
     "output_type": "stream",
     "text": [
      "Creating video...\n"
     ]
    }
   ],
   "source": [
    "directory = './inputs/'\n",
    "file_list = os.listdir(directory)\n",
    "for file in file_list:\n",
    "    convertdatatovideo(str(file),directory+str(file))"
   ]
  }
 ],
 "metadata": {
  "kernelspec": {
   "display_name": "Python 3",
   "language": "python",
   "name": "python3"
  },
  "language_info": {
   "codemirror_mode": {
    "name": "ipython",
    "version": 3
   },
   "file_extension": ".py",
   "mimetype": "text/x-python",
   "name": "python",
   "nbconvert_exporter": "python",
   "pygments_lexer": "ipython3",
   "version": "3.10.4"
  },
  "orig_nbformat": 4
 },
 "nbformat": 4,
 "nbformat_minor": 2
}
