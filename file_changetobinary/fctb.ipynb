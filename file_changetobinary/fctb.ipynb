{
 "cells": [
  {
   "cell_type": "code",
   "execution_count": 90,
   "metadata": {},
   "outputs": [],
   "source": [
    "from PIL import Image\n",
    "def convert_file_to_binary(path):\n",
    "    with open(path, 'rb') as f:\n",
    "        binary_data = f.read()\n",
    "        binary_string = ''.join(format(byte, '08b') for byte in binary_data)\n",
    "    print(f'Binary length : {8*len(binary_string)}')\n",
    "    return binary_string\n"
   ]
  },
  {
   "cell_type": "code",
   "execution_count": 97,
   "metadata": {},
   "outputs": [],
   "source": [
    "def create_image(name_of_file,img_index,current_index,binary_string):\n",
    "    new_image = Image.new('RGB', (7680, 4320), (0, 0, 0))\n",
    "\n",
    "    # Get the size of the image\n",
    "    width, height = new_image.size\n",
    "\n",
    "    # Loop over each pixel in the image and set its value\n",
    "    # current_index=int(current_index)\n",
    "    for x in range(width):\n",
    "        for y in range(height):\n",
    "            # Set the color of the pixel\n",
    "            if(current_index<len(binary_string)):\n",
    "                if(binary_string[current_index]=='1'):\n",
    "                    new_image.putpixel((x, y), (256, 256, 256))  # white\n",
    "                elif(binary_string[current_index]=='0'):\n",
    "                    new_image.putpixel((x, y), (0, 0, 0))  # black\n",
    "                current_index+=1\n",
    "            else:\n",
    "                new_image.putpixel((x, y), (0, 0, 256))\n",
    "\n",
    "            \n",
    "\n",
    "    # Save the new image\n",
    "    new_image.save('./images/'+name_of_file+'_pixels_'+'{:04d}'.format(img_index)+'.jpg')\n",
    "    return current_index\n",
    "    "
   ]
  },
  {
   "cell_type": "code",
   "execution_count": 103,
   "metadata": {},
   "outputs": [],
   "source": [
    "def Create_images(name_of_file,binary_string):\n",
    "    total_length=len(binary_string)\n",
    "    img_index=1\n",
    "    current_index=0\n",
    "    while(total_length>33177600):\n",
    "        current_index=create_image(name_of_file,img_index,current_index,binary_string)\n",
    "        img_index+=1\n",
    "        \n",
    "    if(current_index<33177600):\n",
    "        create_image(name_of_file,img_index,current_index,binary_string)"
   ]
  },
  {
   "cell_type": "code",
   "execution_count": 104,
   "metadata": {},
   "outputs": [],
   "source": [
    "def cal_no_of_images(name_of_file):\n",
    "    import os\n",
    "    directory = './images/'\n",
    "    file_list = os.listdir(directory)\n",
    "    num_files=0\n",
    "    for file in file_list:\n",
    "        if name_of_file == str(file)[:-16]:\n",
    "            print(\"images are : \"+str(file))\n",
    "            num_files+=1\n",
    "\n",
    "    return num_files\n"
   ]
  },
  {
   "cell_type": "code",
   "execution_count": 105,
   "metadata": {},
   "outputs": [],
   "source": [
    "def CreateVideo(name_of_file):\n",
    "    import imageio.v2\n",
    "    writer = imageio.v2.get_writer('./videos/'+name_of_file+'.mp4', fps=1)\n",
    "    noi=cal_no_of_images(name_of_file)\n",
    "    for i in range(noi):\n",
    "        image = imageio.v2.imread('./images/'+name_of_file+'_pixels_'+'{:04d}'.format(i+1)+'.jpg')\n",
    "        writer.append_data(image)\n",
    "\n",
    "    writer.close()\n"
   ]
  },
  {
   "cell_type": "code",
   "execution_count": 106,
   "metadata": {},
   "outputs": [],
   "source": [
    "def convertdatatovideo(name_of_file,path):\n",
    "    binary_string=convert_file_to_binary(path)\n",
    "    Create_images(name_of_file,binary_string)\n",
    "    CreateVideo(name_of_file)\n",
    "    "
   ]
  },
  {
   "cell_type": "code",
   "execution_count": 107,
   "metadata": {},
   "outputs": [
    {
     "name": "stdout",
     "output_type": "stream",
     "text": [
      "Binary length : 138898816\n",
      "images are : dependency-check.html_pixels_0001.jpg\n"
     ]
    },
    {
     "name": "stderr",
     "output_type": "stream",
     "text": [
      "[rawvideo @ 0x73d8680] Stream #0: not enough frames to estimate rate; consider increasing probesize\n"
     ]
    },
    {
     "name": "stdout",
     "output_type": "stream",
     "text": [
      "Binary length : 137792\n",
      "images are : myfile.txt_pixels_0001.jpg\n"
     ]
    },
    {
     "name": "stderr",
     "output_type": "stream",
     "text": [
      "[rawvideo @ 0x723a680] Stream #0: not enough frames to estimate rate; consider increasing probesize\n"
     ]
    }
   ],
   "source": [
    "# dot_index = s.rfind('.')\n",
    "import os\n",
    "directory = './inputs/'\n",
    "file_list = os.listdir(directory)\n",
    "for file in file_list:\n",
    "    convertdatatovideo(str(file),directory+str(file))"
   ]
  },
  {
   "cell_type": "code",
   "execution_count": null,
   "metadata": {},
   "outputs": [],
   "source": []
  }
 ],
 "metadata": {
  "kernelspec": {
   "display_name": "Python 3",
   "language": "python",
   "name": "python3"
  },
  "language_info": {
   "codemirror_mode": {
    "name": "ipython",
    "version": 3
   },
   "file_extension": ".py",
   "mimetype": "text/x-python",
   "name": "python",
   "nbconvert_exporter": "python",
   "pygments_lexer": "ipython3",
   "version": "3.10.4"
  },
  "orig_nbformat": 4
 },
 "nbformat": 4,
 "nbformat_minor": 2
}
