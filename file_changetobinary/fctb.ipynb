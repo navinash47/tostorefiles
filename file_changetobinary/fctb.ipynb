{
 "cells": [
  {
   "cell_type": "code",
   "execution_count": null,
   "metadata": {},
   "outputs": [],
   "source": [
    "from PIL import Image\n",
    "def convert_file_to_binary(path):\n",
    "    with open(path, 'rb') as f:\n",
    "        binary_data = f.read()\n",
    "        binary_string = ''.join(format(byte, '08b') for byte in binary_data)\n",
    "    print(f'Binary length : {8*len(binary_string)}')\n",
    "    return binary_string\n"
   ]
  },
  {
   "cell_type": "code",
   "execution_count": null,
   "metadata": {},
   "outputs": [],
   "source": [
    "def create_image(name_of_file,img_index,current_index,binary_string):\n",
    "    # new_image = Image.new('RGB', (7680, 4320), (256, 256, 256))\n",
    "    #change to 480p)\n",
    "    new_image = Image.new('RGB', (640, 480), (256, 256, 256))\n",
    "    # Get the size of the image\n",
    "    width, height = new_image.size\n",
    "\n",
    "    # Loop over each pixel in the image and set its value\n",
    "    # current_index=int(current_index)\n",
    "    for x in range(width):\n",
    "        for y in range(height):\n",
    "            # Set the color of the pixel\n",
    "            all_pixels={'Red':0,'Green':0,'Blue':0}\n",
    "            if(len(binary_string)-current_index>=24):\n",
    "                for i in range(3):\n",
    "                    binary_substring=binary_string[current_index:current_index+8]\n",
    "                    current_index+=8\n",
    "                    decimal_temp = int(binary_substring, 2)\n",
    "                    all_pixels[list(all_pixels.keys())[i]]=decimal_temp\n",
    "            elif(len(binary_string)-current_index==16):\n",
    "                for i in range(2):\n",
    "                    binary_substring=binary_string[current_index:current_index+8]\n",
    "                    current_index+=8\n",
    "                    decimal_temp = int(binary_substring, 2)\n",
    "                    all_pixels[list(all_pixels.keys())[i+1]]=decimal_temp\n",
    "            elif(len(binary_string)-current_index==8):\n",
    "                binary_substring=binary_string[current_index:current_index+8]\n",
    "                current_index+=8\n",
    "                decimal_temp = int(binary_substring, 2)\n",
    "                all_pixels[list(all_pixels.keys())[2]]=decimal_temp\n",
    "                    \n",
    "            new_image.putpixel((x, y), (all_pixels['Red'], all_pixels['Green'], all_pixels['Blue']))  \n",
    "    print(\"image created\")\n",
    "    # Save the new image\n",
    "    new_image.save('./images/'+name_of_file+'_pixels_'+'{:04d}'.format(img_index)+'.jpg')\n",
    "    return current_index\n",
    "    "
   ]
  },
  {
   "cell_type": "code",
   "execution_count": null,
   "metadata": {},
   "outputs": [],
   "source": [
    "def Create_images(name_of_file,binary_string):\n",
    "    print(\"Creating images...\")\n",
    "    total_length=len(binary_string)\n",
    "    img_index=1\n",
    "    current_index=0\n",
    "    \n",
    "    while(total_length>307200):\n",
    "        print(f'Creating image {img_index}')\n",
    "        current_index=create_image(name_of_file,img_index,current_index,binary_string)\n",
    "        print(f\"{current_index} out of {total_length}\")\n",
    "        img_index+=1\n",
    "        if(current_index==total_length):\n",
    "            break\n",
    "    if(current_index<total_length):\n",
    "        print(f'Creating image {img_index}')\n",
    "        create_image(name_of_file,img_index,current_index,binary_string)\n",
    "    # while(total_length>33177600):\n",
    "    #     current_index=create_image(name_of_file,img_index,current_index,binary_string)\n",
    "    #     img_index+=1\n",
    "        \n",
    "    # if(current_index<33177600):\n",
    "    #     create_image(name_of_file,img_index,current_index,binary_string)"
   ]
  },
  {
   "cell_type": "code",
   "execution_count": null,
   "metadata": {},
   "outputs": [],
   "source": [
    "def cal_no_of_images(name_of_file):\n",
    "    import os\n",
    "    directory = './images/'\n",
    "    file_list = os.listdir(directory)\n",
    "    num_files=0\n",
    "    for file in file_list:\n",
    "        if name_of_file == str(file)[:-16]:\n",
    "            print(\"images are : \"+str(file))\n",
    "            num_files+=1\n",
    "\n",
    "    return num_files\n"
   ]
  },
  {
   "cell_type": "code",
   "execution_count": null,
   "metadata": {},
   "outputs": [],
   "source": [
    "def CreateVideo(name_of_file):\n",
    "    print(\"Creating video...\")\n",
    "    import imageio.v2\n",
    "    writer = imageio.v2.get_writer('./videos/'+name_of_file+'.mp4', fps=30)\n",
    "    noi=cal_no_of_images(name_of_file)\n",
    "    for i in range(noi):\n",
    "        print(\"Video: images are : \"+str(i))\n",
    "        image = imageio.v2.imread('./images/'+name_of_file+'_pixels_'+'{:04d}'.format(i+1)+'.jpg')\n",
    "        writer.append_data(image)\n",
    "\n",
    "    writer.close()\n"
   ]
  },
  {
   "cell_type": "code",
   "execution_count": null,
   "metadata": {},
   "outputs": [],
   "source": [
    "def Delete_Images(name_of_file):\n",
    "    import os\n",
    "    directory = './images/'\n",
    "    file_list = os.listdir(directory)\n",
    "    for file in file_list:\n",
    "        if name_of_file == str(file)[:-16]:\n",
    "            os.remove('./images/'+file)\n",
    "            print(\"Deleted : \"+str(file))"
   ]
  },
  {
   "cell_type": "code",
   "execution_count": null,
   "metadata": {},
   "outputs": [],
   "source": [
    "def convertdatatovideo(name_of_file,path):\n",
    "    binary_string=convert_file_to_binary(path)\n",
    "    Create_images(name_of_file,binary_string)\n",
    "    CreateVideo(name_of_file)\n",
    "    Delete_Images(name_of_file)\n",
    "    "
   ]
  },
  {
   "cell_type": "code",
   "execution_count": null,
   "metadata": {},
   "outputs": [],
   "source": [
    "# dot_index = s.rfind('.')\n",
    "import os\n",
    "directory = './inputs/'\n",
    "file_list = os.listdir(directory)\n",
    "for file in file_list:\n",
    "    convertdatatovideo(str(file),directory+str(file))"
   ]
  }
 ],
 "metadata": {
  "kernelspec": {
   "display_name": "Python 3",
   "language": "python",
   "name": "python3"
  },
  "language_info": {
   "codemirror_mode": {
    "name": "ipython",
    "version": 3
   },
   "file_extension": ".py",
   "mimetype": "text/x-python",
   "name": "python",
   "nbconvert_exporter": "python",
   "pygments_lexer": "ipython3",
   "version": "3.10.4"
  },
  "orig_nbformat": 4
 },
 "nbformat": 4,
 "nbformat_minor": 2
}
